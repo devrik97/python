{
 "cells": [
  {
   "cell_type": "code",
   "execution_count": 4,
   "metadata": {},
   "outputs": [
    {
     "data": {
      "text/plain": [
       "Flag               0\n",
       "Country            0\n",
       "2019 Population    0\n",
       "Area               0\n",
       "2019 Density       0\n",
       "Growth Rate        0\n",
       "World %            0\n",
       "Rank               0\n",
       "dtype: int64"
      ]
     },
     "execution_count": 4,
     "metadata": {},
     "output_type": "execute_result"
    }
   ],
   "source": [
    "import pandas as pd\n",
    "import requests as req\n",
    "from bs4 import BeautifulSoup\n",
    "import csv\n",
    "\n",
    "res = req.get('https://worldpopulationreview.com/#liveWorldPop')\n",
    "type(res)\n",
    "soup = BeautifulSoup(res.text,'lxml')\n",
    "#print(soup.prettify())\n",
    "\n",
    "#hi = soup.title.text\n",
    "#hi = soup.div   #give first div tag\n",
    "\n",
    "f = open('populatio.csv',mode = 'w',encoding = 'utf-8')\n",
    "\n",
    "table = soup.find('table',class_='datatableStyles__StyledTable-bwtkle-1 hOnuWY table table-striped')\n",
    "#hi = soup.find('div',class_='datatableStyles__TableContainer-bwtkle-0 dvLKHZ')\n",
    "column_list = []\n",
    "for i in table.thead.tr:\n",
    "    column_name = i.span.a.text\n",
    "    column_list.append(column_name[0:len(column_name)-2])\n",
    "\n",
    "country_list = []\n",
    "\n",
    "\n",
    "for i in table.tbody:\n",
    "    key = {}\n",
    "    index = 0\n",
    "    for j in i:\n",
    "        if index == 0:\n",
    "            key[column_list[index]] = str(j.img).split(\"\\\"\")[1]\n",
    "        else:\n",
    "            key[column_list[index]] = j.text\n",
    "        index = index + 1\n",
    "    del key[column_list[2]]\n",
    "    country_list.append(key) \n",
    "    \n",
    "del column_list[2]\n",
    "\n",
    "csv_writer = csv.DictWriter(f,fieldnames = column_list)\n",
    "csv_writer.writeheader()\n",
    "for i in country_list:\n",
    "    csv_writer.writerow(i)\n",
    "f.close()\n",
    "#print(column_list)\n",
    "df = pd.read_csv(\"population.csv\")\n",
    "df.isna().sum()"
   ]
  },
  {
   "cell_type": "code",
   "execution_count": null,
   "metadata": {},
   "outputs": [],
   "source": []
  }
 ],
 "metadata": {
  "kernelspec": {
   "display_name": "Python 3",
   "language": "python",
   "name": "python3"
  },
  "language_info": {
   "codemirror_mode": {
    "name": "ipython",
    "version": 3
   },
   "file_extension": ".py",
   "mimetype": "text/x-python",
   "name": "python",
   "nbconvert_exporter": "python",
   "pygments_lexer": "ipython3",
   "version": "3.7.3"
  }
 },
 "nbformat": 4,
 "nbformat_minor": 4
}
